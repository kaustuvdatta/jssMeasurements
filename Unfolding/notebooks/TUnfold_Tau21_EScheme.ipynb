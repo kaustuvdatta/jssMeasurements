{
 "cells": [
  {
   "cell_type": "markdown",
   "metadata": {},
   "source": [
    "# Exploring the phase space of a jet: 1-D Unfolding  (for now)"
   ]
  },
  {
   "cell_type": "markdown",
   "metadata": {},
   "source": [
    "## Unfolding the standard, and a novel, $N$-subjettiness ratio in semileptonic $t\\bar{t}$ events at $\\sqrt{s} = 13$ TeV"
   ]
  },
  {
   "cell_type": "markdown",
   "metadata": {},
   "source": [
    "#### Firstly , import the ROOT data analysis framework which will be used to read the data files and unfold the final result. "
   ]
  },
  {
   "cell_type": "code",
   "execution_count": 1,
   "metadata": {},
   "outputs": [
    {
     "name": "stdout",
     "output_type": "stream",
     "text": [
      "Welcome to JupyROOT 6.18/00\n"
     ]
    }
   ],
   "source": [
    "import ROOT\n",
    "import array as array\n",
    "import os\n",
    "import glob\n",
    "import ROOT\n",
    "from ROOT import TH1D, TH2D, TTree,TFile\n",
    "from random import gauss\n",
    "import numpy as np\n",
    "import root_numpy as rtnpy\n",
    "import h5py\n",
    "from awkward import JaggedArray, Table\n",
    "import matplotlib.pyplot as plt\n",
    "import seaborn as sns"
   ]
  },
  {
   "cell_type": "code",
   "execution_count": 2,
   "metadata": {
    "scrolled": true
   },
   "outputs": [
    {
     "name": "stdout",
     "output_type": "stream",
     "text": [
      "2016 Single Muon dataset luminosity:35.92\n"
     ]
    }
   ],
   "source": [
    "lumi = 5.75+2.57+4.24+4.03+3.11+7.57+8.65 #B+C+D+E+F+G+H\n",
    "print \"2016 Single Muon dataset luminosity:%0.2f\"%(lumi)"
   ]
  },
  {
   "cell_type": "code",
   "execution_count": 3,
   "metadata": {},
   "outputs": [],
   "source": [
    "systs = ['Jmr', 'Jms', 'pileup', 'JesTotal', 'Lumi', 'lhaPDF', 'Jer']\n",
    "\n",
    "uncert_colors = [ 4 ,  4 , ROOT.kCyan +1 ,2 ,      ROOT.kYellow+3,    ROOT.kMagenta ,  2 , ROOT.kBlack ,ROOT.kBlack ,    ROOT.kCyan +3 , ROOT.kViolet+3 ,  ROOT.kAzure+2 , ROOT.kMagenta+1 ,ROOT.kViolet+3 ,  ROOT.kRed ,   ROOT.kCyan +3 , ROOT.kViolet+3 ,  ROOT.kAzure+2 , ROOT.kMagenta+1 ,   ROOT.kCyan +3 , ROOT.kViolet+3 ,  ROOT.kAzure+2 , ROOT.kMagenta+1 ,ROOT.kViolet+3 ,  ROOT.kRed ,   ROOT.kCyan +3 , ROOT.kViolet+3 ,  ROOT.kAzure+2 , ROOT.kMagenta+1 ]\n",
    "uncert_lines = [ 5,8,7,3,    5,    6,8,1, 2, 4, 5, 1, 7, 8, 1, 7,7,4,4,5,2,1,3, 2, 4, 5, 1, 7, 8, 1]"
   ]
  },
  {
   "cell_type": "markdown",
   "metadata": {},
   "source": [
    "#### Below the MC and Data events are read from ROOT trees which only contain events meeting the selection criteria set forth in this __[script](https://github.com/kaustuvdatta/jetObservables/blob/102X/python/nSubProducer_gen_reco.py)__ and thereafter in the nSubExtractor class"
   ]
  },
  {
   "cell_type": "code",
   "execution_count": 4,
   "metadata": {},
   "outputs": [],
   "source": [
    "from nSubExtractor import nSubExtractor"
   ]
  },
  {
   "cell_type": "markdown",
   "metadata": {},
   "source": [
    "### Loading datasets of $N$-subjettiness bases measured with (default: \" \" ) $E$-scheme recombination and excl. lT axes (please specifiy  \"WTA_kT\" or \"OP_kT\" in the axisdef option of the nSubExtractor)"
   ]
  },
  {
   "cell_type": "code",
   "execution_count": 5,
   "metadata": {},
   "outputs": [
    {
     "name": "stdout",
     "output_type": "stream",
     "text": [
      "(6270, 21) (6270, 2)\n"
     ]
    },
    {
     "name": "stderr",
     "output_type": "stream",
     "text": [
      "Warning in <TClass::Init>: no dictionary for class edm::ProcessHistory is available\n",
      "Warning in <TClass::Init>: no dictionary for class edm::ProcessConfiguration is available\n",
      "Warning in <TClass::Init>: no dictionary for class edm::ParameterSetBlob is available\n",
      "Warning in <TClass::Init>: no dictionary for class edm::Hash<1> is available\n",
      "Warning in <TClass::Init>: no dictionary for class pair<edm::Hash<1>,edm::ParameterSetBlob> is available\n"
     ]
    }
   ],
   "source": [
    "a = nSubExtractor(isMC=1, axisdef=\"\", sample=\"TTbar/2\")\n",
    "TTbarMG_dataset, TTbarMG_reco_nSub_basis, TTbarMG_gen_nSub_basis, TTbarMG_weights = a.sample_loader()\n",
    "\n",
    "print TTbarMG_reco_nSub_basis.shape, TTbarMG_weights.shape"
   ]
  },
  {
   "cell_type": "code",
   "execution_count": 6,
   "metadata": {},
   "outputs": [
    {
     "name": "stdout",
     "output_type": "stream",
     "text": [
      "(43107, 21) (43107, 2)\n"
     ]
    }
   ],
   "source": [
    "a = nSubExtractor(isMC=1, axisdef=\"\", sample=\"TTbar/1\")\n",
    "TTbar_dataset, TTbar_reco_nSub_basis, TTbar_gen_nSub_basis, TTbar_weights  = a.sample_loader()\n",
    "\n",
    "print TTbar_reco_nSub_basis.shape, TTbar_weights.shape"
   ]
  },
  {
   "cell_type": "code",
   "execution_count": 7,
   "metadata": {},
   "outputs": [
    {
     "name": "stdout",
     "output_type": "stream",
     "text": [
      "(900, 21) (900, 2)\n"
     ]
    }
   ],
   "source": [
    "a = nSubExtractor(isMC=1, axisdef=\"\", sample=\"ST/1\")\n",
    "ST1_dataset, ST1_reco_nSub_basis, ST1_gen_nSub_basis, ST1_weights  = a.sample_loader()\n",
    "print ST1_reco_nSub_basis.shape, ST1_weights.shape"
   ]
  },
  {
   "cell_type": "code",
   "execution_count": 8,
   "metadata": {},
   "outputs": [
    {
     "name": "stdout",
     "output_type": "stream",
     "text": [
      "(1988, 21) (1988, 2)\n"
     ]
    }
   ],
   "source": [
    "a = nSubExtractor(isMC=1, axisdef=\"\", sample=\"ST/2\")\n",
    "ST2_dataset, ST2_reco_nSub_basis, ST2_gen_nSub_basis, ST2_weights  = a.sample_loader()\n",
    "print ST2_reco_nSub_basis.shape, ST2_weights.shape"
   ]
  },
  {
   "cell_type": "code",
   "execution_count": 9,
   "metadata": {},
   "outputs": [
    {
     "name": "stdout",
     "output_type": "stream",
     "text": [
      "(594, 21) (594, 2)\n"
     ]
    }
   ],
   "source": [
    "a = nSubExtractor(isMC=1, axisdef=\"\", sample=\"ST/3\")\n",
    "ST3_dataset, ST3_reco_nSub_basis, ST3_gen_nSub_basis, ST3_weights  = a.sample_loader()\n",
    "print ST3_reco_nSub_basis.shape, ST3_weights.shape"
   ]
  },
  {
   "cell_type": "code",
   "execution_count": 10,
   "metadata": {},
   "outputs": [
    {
     "name": "stdout",
     "output_type": "stream",
     "text": [
      "(617, 21) (617, 2)\n"
     ]
    }
   ],
   "source": [
    "a = nSubExtractor(isMC=1, axisdef=\"\", sample=\"ST/4\")\n",
    "ST4_dataset, ST4_reco_nSub_basis, ST4_gen_nSub_basis, ST4_weights  = a.sample_loader()\n",
    "print ST4_reco_nSub_basis.shape, ST4_weights.shape"
   ]
  },
  {
   "cell_type": "code",
   "execution_count": 11,
   "metadata": {},
   "outputs": [
    {
     "name": "stdout",
     "output_type": "stream",
     "text": [
      "(69, 21) (69, 2)\n"
     ]
    }
   ],
   "source": [
    "a = nSubExtractor(isMC=1, axisdef=\"\", sample=\"ST/5\")\n",
    "ST5_dataset, ST5_reco_nSub_basis, ST5_gen_nSub_basis, ST5_weights  = a.sample_loader()\n",
    "print ST5_reco_nSub_basis.shape, ST5_weights.shape"
   ]
  },
  {
   "cell_type": "code",
   "execution_count": 12,
   "metadata": {},
   "outputs": [
    {
     "name": "stdout",
     "output_type": "stream",
     "text": [
      "(207, 21) (207, 3)\n"
     ]
    }
   ],
   "source": [
    "a = nSubExtractor(isMC=1, axisdef=\"\", sample=\"Wjets/2\")\n",
    "Wjets_dataset, Wjets_reco_nSub_basis, Wjets_gen_nSub_basis, Wjets_weights = a.sample_loader()\n",
    "print Wjets_reco_nSub_basis.shape, Wjets_weights.shape"
   ]
  },
  {
   "cell_type": "code",
   "execution_count": 13,
   "metadata": {},
   "outputs": [
    {
     "name": "stdout",
     "output_type": "stream",
     "text": [
      "(16482, 21)\n"
     ]
    }
   ],
   "source": [
    "a = nSubExtractor(isMC=0, axisdef=\"\", sample=\"Data\")\n",
    "data_dataset, data_nSub_basis,  = a.sample_loader()\n",
    "print data_nSub_basis.shape"
   ]
  },
  {
   "cell_type": "code",
   "execution_count": 14,
   "metadata": {
    "scrolled": true
   },
   "outputs": [],
   "source": [
    "weight_ST1 = (80.95*0.322*lumi*1000.)/(38811017.)*np.ones(ST1_weights.shape[0])*ST1_weights[:,0]*ST1_weights[:,1]*0.8\n",
    "weight_ST2 = (0.322*136.02*lumi*1000.)/(66960888.)*np.ones(ST2_weights.shape[0])*ST2_weights[:,0]*ST2_weights[:,1]*0.8\n",
    "weight_ST3 = (35.6*lumi*1000.)/(998276.)*np.ones(ST3_weights.shape[0])*ST3_weights[:,0]*ST3_weights[:,1]*0.8\n",
    "weight_ST4 = (35.6*lumi*1000.)/(992024.)*np.ones(ST4_weights.shape[0])*ST4_weights[:,0]*ST4_weights[:,1]*0.8\n",
    "weight_ST5 = (10.12*lumi*1000.)/(2989199.)*np.ones(ST5_weights.shape[0])*ST5_weights[:,0]*ST5_weights[:,1]*0.8\n",
    "weight_TTbar = (831.76*lumi*1000.)/76915549.*np.ones(TTbar_weights.shape[0])*TTbar_weights[:,0]*TTbar_weights[:,1]*0.8\n",
    "weight_Wjets = ((60781.5*lumi*1000.)*(Wjets_weights[:,2]/abs(Wjets_weights[:,2][0]))/158307515.0)*Wjets_weights[:,0]*Wjets_weights[:,1]*0.8 \n",
    "weight_data = 1.0*np.ones(data_nSub_basis.shape[0])\n",
    "\n",
    "#print lumi, weight_Wjets\n",
    "#print TTbar_weights[:,0]"
   ]
  },
  {
   "cell_type": "code",
   "execution_count": 15,
   "metadata": {},
   "outputs": [
    {
     "name": "stdout",
     "output_type": "stream",
     "text": [
      "4681\n"
     ]
    }
   ],
   "source": [
    "lenW = Wjets_reco_nSub_basis.shape[0]\n",
    "lenST = ST1_reco_nSub_basis.shape[0]+ST1_reco_nSub_basis.shape[0]+ST2_reco_nSub_basis.shape[0]+ST4_reco_nSub_basis.shape[0]+ST5_reco_nSub_basis.shape[0]\n",
    "lenbkg = lenW+lenST\n",
    "print lenbkg"
   ]
  },
  {
   "cell_type": "code",
   "execution_count": 16,
   "metadata": {},
   "outputs": [],
   "source": [
    "bkg_reco_nSub_basis = np.concatenate((Wjets_reco_nSub_basis, ST1_reco_nSub_basis, ST2_reco_nSub_basis, ST3_reco_nSub_basis, ST4_reco_nSub_basis, ST5_reco_nSub_basis))"
   ]
  },
  {
   "cell_type": "code",
   "execution_count": 17,
   "metadata": {},
   "outputs": [
    {
     "name": "stdout",
     "output_type": "stream",
     "text": [
      "4681\n"
     ]
    }
   ],
   "source": [
    "lenW = Wjets_gen_nSub_basis.shape[0]\n",
    "lenST = ST1_gen_nSub_basis.shape[0]+ST1_gen_nSub_basis.shape[0]+ST2_gen_nSub_basis.shape[0]+ST4_gen_nSub_basis.shape[0]+ST5_gen_nSub_basis.shape[0]\n",
    "lenbkg = lenW+lenST\n",
    "print lenbkg"
   ]
  },
  {
   "cell_type": "code",
   "execution_count": 18,
   "metadata": {},
   "outputs": [],
   "source": [
    "bkg_gen_nSub_basis = np.concatenate((Wjets_gen_nSub_basis, ST1_gen_nSub_basis, ST2_gen_nSub_basis, ST3_gen_nSub_basis, ST4_gen_nSub_basis, ST5_gen_nSub_basis))"
   ]
  },
  {
   "cell_type": "code",
   "execution_count": 19,
   "metadata": {},
   "outputs": [],
   "source": [
    "Wjets_gen_tau21 = Wjets_gen_nSub_basis[:,4]/Wjets_gen_nSub_basis[:,1]\n",
    "\n",
    "ST1_gen_tau21 = ST1_gen_nSub_basis[:,4]/ST1_gen_nSub_basis[:,1]\n",
    "\n",
    "ST2_gen_tau21 = ST2_gen_nSub_basis[:,4]/ST2_gen_nSub_basis[:,1]\n",
    "\n",
    "ST3_gen_tau21 = ST3_gen_nSub_basis[:,4]/ST3_gen_nSub_basis[:,1]\n",
    "\n",
    "ST4_gen_tau21 = ST4_gen_nSub_basis[:,4]/ST4_gen_nSub_basis[:,1]\n",
    "\n",
    "ST5_gen_tau21 = ST5_gen_nSub_basis[:,4]/ST5_gen_nSub_basis[:,1]\n",
    "\n",
    "TTbar_gen_tau21 = TTbar_gen_nSub_basis[:,4]/TTbar_gen_nSub_basis[:,1]"
   ]
  },
  {
   "cell_type": "code",
   "execution_count": 20,
   "metadata": {},
   "outputs": [],
   "source": [
    "Wjets_reco_tau21 = Wjets_reco_nSub_basis[:,4]/Wjets_reco_nSub_basis[:,1]\n",
    "\n",
    "ST1_reco_tau21 = ST1_reco_nSub_basis[:,4]/ST1_reco_nSub_basis[:,1]\n",
    "\n",
    "ST2_reco_tau21 = ST2_reco_nSub_basis[:,4]/ST2_reco_nSub_basis[:,1]\n",
    "\n",
    "ST3_reco_tau21 = ST3_reco_nSub_basis[:,4]/ST3_reco_nSub_basis[:,1]\n",
    "\n",
    "ST4_reco_tau21 = ST4_reco_nSub_basis[:,4]/ST4_reco_nSub_basis[:,1]\n",
    "\n",
    "ST5_reco_tau21 = ST5_reco_nSub_basis[:,4]/ST5_reco_nSub_basis[:,1]\n",
    "\n",
    "TTbar_reco_tau21 = TTbar_reco_nSub_basis[:,4]/TTbar_reco_nSub_basis[:,1]"
   ]
  },
  {
   "cell_type": "markdown",
   "metadata": {},
   "source": [
    "### cursory comparison of data/MC for $\\tau_{2,1}$\n",
    "i.e., check if the samples collected above make sense"
   ]
  },
  {
   "cell_type": "code",
   "execution_count": 21,
   "metadata": {
    "scrolled": false
   },
   "outputs": [
    {
     "data": {
      "image/png": "[encoded data removed]",
      "text/plain": [
       "<Figure size 1152x648 with 1 Axes>"
      ]
     },
     "metadata": {
      "needs_background": "light"
     },
     "output_type": "display_data"
    }
   ],
   "source": [
    "plt.figure(figsize=(16,9))\n",
    "plt.hist([TTbar_reco_tau21, ST1_reco_tau21, ST2_reco_tau21, ST3_reco_tau21, ST4_reco_tau21, ST5_reco_tau21, Wjets_reco_tau21], weights=[weight_TTbar,weight_ST1,weight_ST2,weight_ST3,weight_ST4,weight_ST5,weight_Wjets], histtype='step', lw=3, bins=np.arange(0.,1.25,0.05) , stacked=True)\n",
    "plt.hist([TTbar_gen_tau21, ST1_gen_tau21, ST2_gen_tau21, ST3_gen_tau21, ST4_gen_tau21, ST5_gen_tau21, Wjets_gen_tau21], weights=[weight_TTbar,weight_ST1,weight_ST2,weight_ST3,weight_ST4,weight_ST5,weight_Wjets], alpha=0.2, ls=':', bins=np.arange(0.,1.25,0.05) , stacked=True)\n",
    "\n",
    "plt.hist(data_nSub_basis[:,4]/data_nSub_basis[:,1], histtype='step', color='k', ls='--', bins=np.arange(0.,1.2,0.05)  , lw=3)\n",
    "plt.grid()\n",
    "\n",
    "plt.show()"
   ]
  },
  {
   "cell_type": "code",
   "execution_count": 22,
   "metadata": {},
   "outputs": [
    {
     "data": {
      "image/png": "[encoded data removed]",
      "text/plain": [
       "<Figure size 1152x648 with 1 Axes>"
      ]
     },
     "metadata": {
      "needs_background": "light"
     },
     "output_type": "display_data"
    }
   ],
   "source": [
    "plt.figure(figsize=(16,9))\n",
    "plt.hist(data_nSub_basis[:,4]/data_nSub_basis[:,1], color='k', bins=np.arange(0.,1.25,0.05), density=True)\n",
    "plt.hist([TTbar_reco_nSub_basis[:,4]/TTbar_reco_nSub_basis[:,1],bkg_reco_nSub_basis[:,4]/bkg_reco_nSub_basis[:,1]], stacked=True, density=True, color=['r','g'], bins=np.arange(0.,1.25,0.05), histtype='step', lw=3)\n",
    "plt.grid()\n",
    "plt.show()"
   ]
  },
  {
   "cell_type": "markdown",
   "metadata": {},
   "source": [
    "## 1-D unfolding of $N$-subjettiness ratios"
   ]
  },
  {
   "cell_type": "markdown",
   "metadata": {},
   "source": [
    "### Simple unfolding of  $\\tau_{2,1}^{(1)}$ [done without background subtraction or systematics here, the rest follows after this], here MC includes signal+background"
   ]
  },
  {
   "cell_type": "code",
   "execution_count": 23,
   "metadata": {},
   "outputs": [],
   "source": [
    "MC_reco_tau21 = np.concatenate((TTbar_reco_tau21, ST1_reco_tau21,ST2_reco_tau21,ST3_reco_tau21,ST4_reco_tau21,ST5_reco_tau21,Wjets_reco_tau21))\n",
    "MC_gen_tau21 = np.concatenate((TTbar_gen_tau21, ST1_gen_tau21,ST2_gen_tau21,ST3_gen_tau21,ST4_gen_tau21,ST5_gen_tau21,Wjets_gen_tau21))\n",
    "data_tau21 = data_nSub_basis[:,4]/data_nSub_basis[:,1]\n",
    "weights_MC = np.concatenate((weight_TTbar,weight_ST1,weight_ST2,weight_ST3,weight_ST4,weight_ST5,weight_Wjets))"
   ]
  },
  {
   "cell_type": "markdown",
   "metadata": {
    "collapsed": true
   },
   "source": [
    "Get the response matrix and input 1D distributions for unfolding."
   ]
  },
  {
   "cell_type": "code",
   "execution_count": 24,
   "metadata": {},
   "outputs": [
    {
     "name": "stdout",
     "output_type": "stream",
     "text": [
      "0.033822936522658054\n",
      "0.035494525811013096\n",
      "1.2025826690775254\n",
      "1.1682265240313252\n",
      "0.05456939248542676\n",
      "1.1363287927955423\n"
     ]
    }
   ],
   "source": [
    "print np.min(MC_gen_tau21)\n",
    "print np.min(MC_reco_tau21)\n",
    "print np.max(MC_gen_tau21)\n",
    "print np.max(MC_reco_tau21)\n",
    "print np.min(data_tau21)\n",
    "print np.max(data_tau21)"
   ]
  },
  {
   "cell_type": "markdown",
   "metadata": {
    "collapsed": true
   },
   "source": [
    "#### Set the axis ranges for the generator and detector level distributions as well as the number of bins in each. Note that we want twice as many detector bins as generator level bins as recommended by the TUnfold documentation + WG members"
   ]
  },
  {
   "cell_type": "code",
   "execution_count": 25,
   "metadata": {},
   "outputs": [
    {
     "name": "stdout",
     "output_type": "stream",
     "text": [
      "[0.     0.1    0.2125 0.325  0.4375 0.55   0.6625 0.775  0.8875 1.\n",
      " 1.21  ] 11\n",
      "[0.         0.05       0.1        0.15294118 0.20588235 0.25882353\n",
      " 0.31176471 0.36470588 0.41764706 0.47058824 0.52352941 0.57647059\n",
      " 0.62941176 0.68235294 0.73529412 0.78823529 0.84117647 0.89411765\n",
      " 0.94705882 1.         1.105      1.21      ] 22\n"
     ]
    }
   ],
   "source": [
    "gen_bins = [x for x in np.linspace(num=9, start=0.1, stop=1.)]\n",
    "gen_bins = np.concatenate((np.array([0.]), gen_bins, np.array([1.21])))\n",
    "print gen_bins, gen_bins.shape[0]\n",
    "\n",
    "det_bins = np.array([x for x in np.linspace(num=18, start=0.1, stop=1.)])\n",
    "det_bins = np.concatenate((np.array([0., 0.05,]), det_bins, np.array([1.105, 1.21])))\n",
    "print det_bins, det_bins.shape[0]"
   ]
  },
  {
   "cell_type": "code",
   "execution_count": 26,
   "metadata": {},
   "outputs": [],
   "source": [
    "ROOT.TH1.SetDefaultSumw2()\n",
    "from root_numpy import *\n",
    "\n",
    "histMgenMC = ROOT.TH1D(\"histMgenMC\", \"histMgenMC; #tau_{2}^{1}; \",  gen_bins.shape[0]-1, (gen_bins))\n",
    "fill_hist(histMgenMC, MC_gen_tau21, weights=weights_MC)\n",
    "\n",
    "histMdetMC = ROOT.TH1D(\"histMdetMC\", \"histMdetMC; #tau_{2}^{1}; \", det_bins.shape[0]-1, (det_bins))\n",
    "fill_hist(histMdetMC, MC_reco_tau21, weights=weights_MC)\n",
    "\n",
    "###use histMgenData in the following commented line for gen-lvl of another signal MC (for cross-closure)\n",
    "###and histMdetData for the reco-level, whereas here we use 2016 data \n",
    "\n",
    "#histMgenData = ROOT.TH1D(\"histMgenData\", \"histMgenData; #tau_{2}^{1}; \", gen_bins.shape[0]-1, (gen_bins))\n",
    "#fill_hist(histMgenData, TTbartruth_nSub_basis[:,4]/TTbartruth_nSub_basis[:,1])\n",
    "\n",
    "histMdetData = ROOT.TH1D(\"histMdetData\", \"histMdetData; #tau_{2}^{1}; \", det_bins.shape[0]-1, (det_bins))\n",
    "fill_hist(histMdetData, data_tau21)\n",
    "\n",
    "\n",
    "response = ROOT.TH2D('response', 'response', det_bins.shape[0]-1, det_bins, gen_bins.shape[0]-1, gen_bins)\n",
    "hist2Dfill = np.zeros((MC_reco_tau21.shape[0], 2))\n",
    "hist2Dfill[:,0] = MC_reco_tau21.flatten()\n",
    "hist2Dfill[:,1] = MC_gen_tau21.flatten()\n",
    "fill_hist(response, hist2Dfill,weights_MC)"
   ]
  },
  {
   "cell_type": "markdown",
   "metadata": {
    "collapsed": true
   },
   "source": [
    "Set the X and Y axis labels"
   ]
  },
  {
   "cell_type": "code",
   "execution_count": 27,
   "metadata": {},
   "outputs": [],
   "source": [
    "response.SetTitle(\";#tau_{2,1}^{1}(det);#tau_{2,1}^{1}(gen)\")\n",
    "\n",
    "histMgenMC.SetTitle(\";#tau_{2,1}^{1}(gen)\")\n",
    "\n",
    "histMdetMC.SetTitle(\";#tau_{2,1}^{1}(det)\")\n",
    "\n",
    "#histMgenData.SetTitle(\";#tau_{2,1}^{1}(gen)\")\n",
    "\n",
    "histMdetData.SetTitle(\";#tau_{2,1}^{1}(det)\")"
   ]
  },
  {
   "cell_type": "markdown",
   "metadata": {
    "collapsed": true
   },
   "source": [
    "### Normalizing the histograms by their integral, before filling response matrix"
   ]
  },
  {
   "cell_type": "code",
   "execution_count": 28,
   "metadata": {},
   "outputs": [
    {
     "name": "stdout",
     "output_type": "stream",
     "text": [
      "16034.7310739\n",
      "16034.7310739\n",
      "16482.0\n"
     ]
    }
   ],
   "source": [
    "norm_genMC = histMgenMC.Integral()\n",
    "print norm_genMC\n",
    "\n",
    "norm_recoMC = histMdetMC.Integral()\n",
    "print norm_recoMC\n",
    "\n",
    "#norm_genData = histMgenData.Integral()\n",
    "#print norm_genData\n",
    "\n",
    "norm_detData = histMdetData.Integral()\n",
    "print norm_detData"
   ]
  },
  {
   "cell_type": "code",
   "execution_count": 29,
   "metadata": {},
   "outputs": [],
   "source": [
    "histMgenMC.Scale(1./norm_genMC)\n",
    "#histMgenData.Scale(1./norm_genData)\n",
    "histMdetData.Scale(1./norm_detData)\n",
    "histMdetMC.Scale(1./norm_recoMC)"
   ]
  },
  {
   "cell_type": "markdown",
   "metadata": {
    "collapsed": true
   },
   "source": [
    "#### Draw the variables at reco and gen level and for \"data\""
   ]
  },
  {
   "cell_type": "code",
   "execution_count": 30,
   "metadata": {},
   "outputs": [
    {
     "data": {
      "image/png": "[encoded data removed]",
      "text/plain": [
       "<IPython.core.display.Image object>"
      ]
     },
     "metadata": {},
     "output_type": "display_data"
    }
   ],
   "source": [
    "c1 = ROOT.TCanvas(\"chistMgenMC1\", \"chistMgenMC1\")\n",
    "c1.SetTitle(\"Sig+Bkg MC\")\n",
    "histMgenMC.Draw(\"e\")\n",
    "histMdetMC.Draw(\"e same\")\n",
    "c1.Draw()"
   ]
  },
  {
   "cell_type": "code",
   "execution_count": 31,
   "metadata": {},
   "outputs": [
    {
     "name": "stderr",
     "output_type": "stream",
     "text": [
      "Warning in <TCanvas::Constructor>: Deleting canvas with same name: chistMgenMC1\n"
     ]
    },
    {
     "data": {
      "image/png": "[encoded data removed]",
      "text/plain": [
       "<IPython.core.display.Image object>"
      ]
     },
     "metadata": {},
     "output_type": "display_data"
    }
   ],
   "source": [
    "c1 = ROOT.TCanvas(\"chistMgenMC1\", \"chistMgenMC1\")\n",
    "#histMgenData.Draw(\"e\")\n",
    "histMdetData.Draw(\"e \")\n",
    "c1.Draw()"
   ]
  },
  {
   "cell_type": "markdown",
   "metadata": {},
   "source": [
    "## Nominal response matrix"
   ]
  },
  {
   "cell_type": "code",
   "execution_count": 32,
   "metadata": {
    "scrolled": false
   },
   "outputs": [
    {
     "data": {
      "image/png": "[encoded data removed]",
      "text/plain": [
       "<IPython.core.display.Image object>"
      ]
     },
     "metadata": {},
     "output_type": "display_data"
    }
   ],
   "source": [
    "c1 = ROOT.TCanvas(\"cresponse1\", \"cresponse1\")\n",
    "response.Draw(\"colz\")\n",
    "c1.Draw()"
   ]
  },
  {
   "cell_type": "markdown",
   "metadata": {},
   "source": [
    "### Start unfolding: "
   ]
  },
  {
   "cell_type": "code",
   "execution_count": 33,
   "metadata": {},
   "outputs": [
    {
     "name": "stdout",
     "output_type": "stream",
     "text": [
      "getting tunfolder:\n"
     ]
    },
    {
     "name": "stderr",
     "output_type": "stream",
     "text": [
      "Info in <TUnfold::SetConstraint>: fConstraint=0\n",
      "Info in <TUnfold::TUnfold>: underflow and overflow bin do not depend on the input data\n",
      "Info in <TUnfold::TUnfold>: 21 input bins and 10 output bins\n",
      "Info in <TUnfoldDensity::TUnfold>: *NOT* unfolding bin #0 (yaxis:#tau_{2,1}^{1}(gen)[ufl])\n",
      "Info in <TUnfoldDensity::TUnfold>: *NOT* unfolding bin #11 (yaxis:#tau_{2,1}^{1}(gen)[ofl])\n",
      "Info in <TUnfoldDensity::RegularizeOneDistribution>: regularizing yaxis regMode=3 densityMode=1 axisSteering=*[UOB]\n"
     ]
    }
   ],
   "source": [
    "print 'getting tunfolder:'\n",
    "tunfolder = ROOT.TUnfoldDensity(response,ROOT.TUnfold.kHistMapOutputVert,ROOT.TUnfold.kRegModeCurvature, ROOT.TUnfold.kEConstraintNone, ROOT.TUnfoldDensity.kDensityModeBinWidth)"
   ]
  },
  {
   "cell_type": "markdown",
   "metadata": {
    "collapsed": true
   },
   "source": [
    "Set the input, a 1D reconstructed histogram from either MC (closure) or Data (measurement) , binned in the detector level binning."
   ]
  },
  {
   "cell_type": "code",
   "execution_count": 34,
   "metadata": {},
   "outputs": [
    {
     "name": "stdout",
     "output_type": "stream",
     "text": [
      "setting reco input\n"
     ]
    },
    {
     "data": {
      "text/plain": [
       "1"
      ]
     },
     "execution_count": 34,
     "metadata": {},
     "output_type": "execute_result"
    },
    {
     "name": "stderr",
     "output_type": "stream",
     "text": [
      "Warning in <TUnfoldDensity::SetInput>: One input bin has zero error, and is ignored.\n"
     ]
    }
   ],
   "source": [
    "print 'setting reco input'\n",
    "tunfolder.SetInput( histMdetData )"
   ]
  },
  {
   "cell_type": "code",
   "execution_count": 35,
   "metadata": {},
   "outputs": [],
   "source": [
    "unfolded = tunfolder.DoUnfold(0.) #tau=0, ie, without regularisation\n",
    "unfolded = tunfolder.GetOutput(\"unfolded\")"
   ]
  },
  {
   "cell_type": "code",
   "execution_count": 36,
   "metadata": {},
   "outputs": [
    {
     "name": "stdout",
     "output_type": "stream",
     "text": [
      "getting tunfolder:\n"
     ]
    },
    {
     "name": "stderr",
     "output_type": "stream",
     "text": [
      "Info in <TUnfold::SetConstraint>: fConstraint=0\n",
      "Info in <TUnfold::TUnfold>: underflow and overflow bin do not depend on the input data\n",
      "Info in <TUnfold::TUnfold>: 21 input bins and 10 output bins\n",
      "Info in <TUnfoldDensity::TUnfold>: *NOT* unfolding bin #0 (yaxis:#tau_{2,1}^{1}(gen)[ufl])\n",
      "Info in <TUnfoldDensity::TUnfold>: *NOT* unfolding bin #11 (yaxis:#tau_{2,1}^{1}(gen)[ofl])\n",
      "Info in <TUnfoldDensity::RegularizeOneDistribution>: regularizing yaxis regMode=3 densityMode=1 axisSteering=*[UOB]\n"
     ]
    }
   ],
   "source": [
    "#unfolding MC for sel-closure ratio test\n",
    "print 'getting tunfolder:'\n",
    "tunfolder_MC = ROOT.TUnfoldDensity(response,ROOT.TUnfold.kHistMapOutputVert,ROOT.TUnfold.kRegModeCurvature, ROOT.TUnfold.kEConstraintNone, ROOT.TUnfoldDensity.kDensityModeBinWidth)"
   ]
  },
  {
   "cell_type": "markdown",
   "metadata": {
    "collapsed": true
   },
   "source": [
    "Set the input, a 1D reconstructed histogram from either MC (closure) or Data (measurement) , binned in the detector level binning."
   ]
  },
  {
   "cell_type": "code",
   "execution_count": 37,
   "metadata": {},
   "outputs": [
    {
     "name": "stdout",
     "output_type": "stream",
     "text": [
      "setting reco input\n"
     ]
    },
    {
     "data": {
      "text/plain": [
       "0"
      ]
     },
     "execution_count": 37,
     "metadata": {},
     "output_type": "execute_result"
    }
   ],
   "source": [
    "print 'setting reco input'\n",
    "tunfolder_MC.SetInput( histMdetMC )"
   ]
  },
  {
   "cell_type": "code",
   "execution_count": 38,
   "metadata": {},
   "outputs": [],
   "source": [
    "unfolded_MC = tunfolder_MC.DoUnfold(0)\n",
    "unfolded_MC = tunfolder_MC.GetOutput(\"unfolded_MC\")"
   ]
  },
  {
   "cell_type": "code",
   "execution_count": 39,
   "metadata": {},
   "outputs": [],
   "source": [
    "ROOT.gStyle.SetOptStat(0)"
   ]
  },
  {
   "cell_type": "code",
   "execution_count": 40,
   "metadata": {
    "scrolled": false
   },
   "outputs": [
    {
     "name": "stderr",
     "output_type": "stream",
     "text": [
      "Info in <TCanvas::Print>: png file Tau21_unfolding_Escheme_nobkgsub.png has been created\n",
      "Info in <TCanvas::Print>: pdf file Tau21_unfolding_Escheme_nobkgsub.pdf has been created\n"
     ]
    },
    {
     "data": {
      "image/png": "[encoded data removed]",
      "text/plain": [
       "<IPython.core.display.Image object>"
      ]
     },
     "metadata": {},
     "output_type": "display_data"
    }
   ],
   "source": [
    "c5 = ROOT.TCanvas('c5', 'c5')\n",
    "unfolded_MC.SetMarkerStyle(13)\n",
    "unfolded_MC.SetMarkerColor(3)\n",
    "unfolded_MC.SetLineColor(3)\n",
    "unfolded_MC.SetLineWidth(1)\n",
    "\n",
    "unfolded.SetMarkerStyle(22)\n",
    "unfolded.SetMarkerColor(1)\n",
    "unfolded.SetLineColor(1)\n",
    "unfolded.SetLineWidth(2)\n",
    "#unfolded.SetFillColor(0)\n",
    "#histMgenData.SetMarkerStyle(4)\n",
    "#histMgenData.SetMarkerColor(2)\n",
    "#histMgenData.SetOption(\"E\")\n",
    "#histMgenData.SetLineColor(2)\n",
    "histMgenMC.SetMarkerStyle(5)\n",
    "histMgenMC.SetMarkerColor(2)\n",
    "histMgenMC.SetLineColor(2)\n",
    "\n",
    "\n",
    "\n",
    "hs = ROOT.THStack(\"#tau_{2,1}\", \"#tau_{2,1}\")\n",
    "#hs.SetMinimum()\n",
    "hs.Add( unfolded, \"E HIST\")\n",
    "hs.Add( unfolded_MC, \"E \")\n",
    "hs.Add(histMgenMC, \"E\")\n",
    "\n",
    "leg0 = ROOT.TLegend(0.4, 0.7, 0.86, 0.86)\n",
    "leg0.AddEntry( unfolded, \"Unfolded Data (2016)\", 'p')\n",
    "leg0.AddEntry( unfolded_MC, \"Unfolded MC (self-closure)\", 'p')\n",
    "leg0.AddEntry( histMgenMC, \"Gen-level MC ttbar+bkg.(self-closure)\", 'p')\n",
    "leg0.SetLineColor(0)\n",
    "leg0.SetBorderSize(0)\n",
    "leg0.SetFillStyle(0)\n",
    "\n",
    "#hs.Add(histMdetMC, \"E\")\n",
    "#hs.Add(histMdetData, \"E\")\n",
    "hs.Draw(\"nostack\")\n",
    "leg0.Draw()\n",
    "\n",
    "c5.Draw()\n",
    "c5.SaveAs(\"Tau21_unfolding_Escheme_nobkgsub.png\")\n",
    "c5.SaveAs(\"Tau21_unfolding_Escheme_nobkgsub.pdf\")"
   ]
  },
  {
   "cell_type": "markdown",
   "metadata": {},
   "source": [
    "#### Get self-closure ratio"
   ]
  },
  {
   "cell_type": "code",
   "execution_count": 41,
   "metadata": {},
   "outputs": [
    {
     "name": "stdout",
     "output_type": "stream",
     "text": [
      "Bin Content \tBin error \tBin Center \tBin Low-Edge \tRatio to Truth for bin \tRatio Error\n",
      "0.0058 \t0.0010 \t0.05 \t0.0 1.0000 0.1927\n",
      "0.1951 \t0.0045 \t0.15625 \t0.1 1.0000 0.0274\n",
      "0.2783 \t0.0100 \t0.26875 \t0.2125 1.0000 0.0420\n",
      "0.2255 \t0.0116 \t0.38125 \t0.325 1.0000 0.0576\n",
      "0.1491 \t0.0118 \t0.49375 \t0.4375 1.0000 0.0866\n",
      "0.0855 \t0.0116 \t0.60625 \t0.55 1.0000 0.1458\n",
      "0.0435 \t0.0066 \t0.71875 \t0.6625 1.0000 0.1669\n",
      "0.0126 \t0.0025 \t0.83125 \t0.775 1.0000 0.2697\n",
      "0.0035 \t0.0030 \t0.94375 \t0.8875 1.0000 0.8920\n",
      "0.0011 \t0.0011 \t1.105 \t1.0 1.0000 0.9841\n"
     ]
    }
   ],
   "source": [
    "ratio = ROOT.TH1D(\"\",\"; #tau_{2,1}^{(1)}\",  gen_bins.shape[0]-1, (gen_bins))\n",
    "ratio.GetXaxis().SetTitle(\"#tau_{2,1}^{(1)}\");\n",
    "#ratio.GetYaxis().SetTitleOffset(0.);\n",
    "ratio.GetYaxis().CenterTitle(ROOT.kTRUE);\n",
    "ratio.GetXaxis().CenterTitle(ROOT.kTRUE);\n",
    "ratio.GetYaxis().SetRangeUser(0.7,1.3)\n",
    "ratio.Add(unfolded_MC)\n",
    "ratio.GetYaxis().SetTitle(\"#frac{Unfolded Powheg}{Gen-level Powheg}\")\n",
    "ratio.Sumw2()\n",
    "ratio.SetStats(0)\n",
    "ratio.Divide(histMgenMC);\n",
    "ratio.GetYaxis().SetLabelSize(0.09)\n",
    "ratio.GetXaxis().SetLabelSize(0.09)\n",
    "#ratio.SetMarkerStyle(1)\n",
    "ratio.SetMarkerColor(ROOT.kRed)\n",
    "ratio.SetLineColor(ROOT.kRed)\n",
    "ratio.GetYaxis().SetTitleSize(0.12)\n",
    "ratio.GetYaxis().SetTitleOffset(0.4)\n",
    "ratio.GetXaxis().SetTitleSize(0.12)\n",
    "ratio.GetXaxis().SetTitleOffset(0.85)\n",
    "\n",
    "print \"Bin Content\", \"\\t\", \"Bin error\", \"\\t\", \"Bin Center\", \"\\t\", \"Bin Low-Edge\", \"\\t\", \"Ratio to Truth for bin\", \"\\t\", \"Ratio Error\"\n",
    "for i in xrange(1,gen_bins.shape[0]):\n",
    "    print \"%0.4f\"%unfolded_MC.GetBinContent(i), \"\\t\", \"%0.4f\"%unfolded_MC.GetBinError(i), \"\\t\", unfolded_MC.GetBinCenter(i), \"\\t\", unfolded_MC.GetBinLowEdge(i), \"%0.4f\"%ratio.GetBinContent(i), \"%0.4f\"%ratio.GetBinError(i)"
   ]
  },
  {
   "cell_type": "code",
   "execution_count": 42,
   "metadata": {},
   "outputs": [
    {
     "name": "stderr",
     "output_type": "stream",
     "text": [
      "Info in <TCanvas::Print>: png file MC_SC_ratio_Escheme_nobkgsub.png has been created\n",
      "Info in <TCanvas::Print>: pdf file MC_SC_ratio_Escheme_nobkgsub.pdf has been created\n"
     ]
    },
    {
     "data": {
      "image/png": "[encoded data removed]",
      "text/plain": [
       "<IPython.core.display.Image object>"
      ]
     },
     "metadata": {},
     "output_type": "display_data"
    }
   ],
   "source": [
    "c6 = ROOT.TCanvas(\"c6\",\"c6\", 600,300)\n",
    "ratio.GetYaxis().SetLabelSize(0.05)\n",
    "ratio.GetXaxis().SetLabelSize(0.05)\n",
    "#ratio.SetMarkerStyle(1)\n",
    "ratio.SetMarkerStyle(5)\n",
    "ratio.SetMarkerColor(ROOT.kRed)\n",
    "ratio.SetLineColor(ROOT.kRed)\n",
    "ratio.GetYaxis().SetTitleSize(0.06)\n",
    "ratio.GetYaxis().SetTitleOffset(0.7)\n",
    "ratio.GetXaxis().SetTitleSize(0.05)\n",
    "ratio.GetXaxis().SetTitleOffset(0.8)\n",
    "#ratio.SetMinimum(0.7)\n",
    "#ratio.SetMaximum(1.3)\n",
    "#ratio.SetMarkerStyle(21);\n",
    "ratio.Draw(\"ep\")\n",
    "c6.Draw()\n",
    "c6.SaveAs(\"MC_SC_ratio_Escheme_nobkgsub.png\")\n",
    "c6.SaveAs(\"MC_SC_ratio_Escheme_nobkgsub.pdf\")"
   ]
  },
  {
   "cell_type": "markdown",
   "metadata": {},
   "source": [
    "# Unfolding $\\tau_{2,1}^{(1)}$ with background subtraction"
   ]
  },
  {
   "cell_type": "code",
   "execution_count": 43,
   "metadata": {},
   "outputs": [],
   "source": [
    "MC_sig_reco_tau21 = TTbar_reco_tau21\n",
    "MC_sig_gen_tau21 = TTbar_gen_tau21\n",
    "\n",
    "MC_bkg_reco_tau21 = np.concatenate((ST1_reco_tau21,ST2_reco_tau21,ST3_reco_tau21,ST4_reco_tau21,ST5_reco_tau21,Wjets_reco_tau21))\n",
    "MC_bkg_gen_tau21 = np.concatenate((ST1_gen_tau21,ST2_gen_tau21,ST3_gen_tau21,ST4_gen_tau21,ST5_gen_tau21,Wjets_gen_tau21))\n",
    "\n",
    "data_tau21 = data_nSub_basis[:,4]/data_nSub_basis[:,1]\n",
    "weights_MC_sig = weight_TTbar\n",
    "weights_MC_bkg = np.concatenate((weight_ST1,weight_ST2,weight_ST3,weight_ST4,weight_ST5,weight_Wjets))"
   ]
  },
  {
   "cell_type": "markdown",
   "metadata": {
    "collapsed": true
   },
   "source": [
    "Get the response matrix and input 1D distributions for unfolding."
   ]
  },
  {
   "cell_type": "code",
   "execution_count": 44,
   "metadata": {},
   "outputs": [
    {
     "name": "stdout",
     "output_type": "stream",
     "text": [
      "0.033822936522658054\n",
      "0.035494525811013096\n",
      "1.2025826690775254\n",
      "1.1682265240313252 \n",
      "\n",
      "0.07700017812299854\n",
      "0.07624753724962098\n",
      "1.118227735899215\n",
      "1.0541581340983461 \n",
      "\n",
      "0.05456939248542676\n",
      "1.1363287927955423\n"
     ]
    }
   ],
   "source": [
    "print np.min(MC_sig_gen_tau21)\n",
    "print np.min(MC_sig_reco_tau21)\n",
    "print np.max(MC_sig_gen_tau21)\n",
    "print np.max(MC_sig_reco_tau21), \"\\n\"\n",
    "\n",
    "\n",
    "print np.min(MC_bkg_gen_tau21)\n",
    "print np.min(MC_bkg_reco_tau21)\n",
    "print np.max(MC_bkg_gen_tau21)\n",
    "print np.max(MC_bkg_reco_tau21), \"\\n\"\n",
    "\n",
    "\n",
    "print np.min(data_tau21)\n",
    "print np.max(data_tau21)"
   ]
  },
  {
   "cell_type": "markdown",
   "metadata": {
    "collapsed": true
   },
   "source": [
    "#### Set the axis ranges for the generator nd detector level distributions as well as the number of bins in each. Note that we want twice as many detector bins as generator level bins as recommended by the TUnfold documenation "
   ]
  },
  {
   "cell_type": "code",
   "execution_count": 45,
   "metadata": {},
   "outputs": [
    {
     "name": "stdout",
     "output_type": "stream",
     "text": [
      "[0.    0.125 0.25  0.375 0.5   0.625 0.75  0.875 1.    1.23 ] 10\n",
      "[0.         0.05882353 0.11764706 0.17647059 0.23529412 0.29411765\n",
      " 0.35294118 0.41176471 0.47058824 0.52941176 0.58823529 0.64705882\n",
      " 0.70588235 0.76470588 0.82352941 0.88235294 0.94117647 1.\n",
      " 1.115      1.23      ] 20\n"
     ]
    }
   ],
   "source": [
    "gen_bins = [x for x in np.linspace(num=9, start=0., stop=1.)]\n",
    "gen_bins = np.concatenate((gen_bins, np.array([1.23])))\n",
    "print gen_bins, gen_bins.shape[0]\n",
    "\n",
    "det_bins = np.array([x for x in np.linspace(num=18, start=0.0, stop=1.)])\n",
    "det_bins = np.concatenate((det_bins, np.array([1.115, 1.23])))\n",
    "print det_bins, det_bins.shape[0]"
   ]
  },
  {
   "cell_type": "code",
   "execution_count": 46,
   "metadata": {},
   "outputs": [],
   "source": [
    "ROOT.TH1.SetDefaultSumw2()\n",
    "from root_numpy import *"
   ]
  },
  {
   "cell_type": "markdown",
   "metadata": {},
   "source": [
    "#### Fill histograms for sig and bkg. MC separately in this case (as one should!)"
   ]
  },
  {
   "cell_type": "code",
   "execution_count": 47,
   "metadata": {},
   "outputs": [
    {
     "name": "stderr",
     "output_type": "stream",
     "text": [
      "Warning in <TROOT::Append>: Replacing existing TH1: histMdetData (Potential memory leak).\n",
      "Warning in <TROOT::Append>: Replacing existing TH1: response (Potential memory leak).\n"
     ]
    }
   ],
   "source": [
    "histMgenMC_bkg = ROOT.TH1D(\"histMgenMC_bkg\", \"histMgenMC_bkg; #tau_{2}^{1}; Events/(0.02)\",  gen_bins.shape[0]-1, (gen_bins))\n",
    "fill_hist(histMgenMC_bkg, MC_bkg_gen_tau21, weights=weights_MC_bkg)\n",
    "\n",
    "histMdetMC_bkg = ROOT.TH1D(\"histMdetMC_bkg\", \"histMdetMC_bkg; #tau_{2}^{1}; Events/(0.02)\", det_bins.shape[0]-1, (det_bins))\n",
    "fill_hist(histMdetMC_bkg, MC_bkg_reco_tau21, weights=weights_MC_bkg)\n",
    "\n",
    "histMgenMC_sig = ROOT.TH1D(\"histMgenMC_sig\", \"histMgenMC_sig; #tau_{2}^{1}; Events/(0.02)\",  gen_bins.shape[0]-1, (gen_bins))\n",
    "fill_hist(histMgenMC_sig, MC_sig_gen_tau21, weights=weights_MC_sig)\n",
    "\n",
    "histMdetMC_sig = ROOT.TH1D(\"histMdetMC_sig\", \"histMdetMC_sig; #tau_{2}^{1}; Events/(0.02)\", det_bins.shape[0]-1, (det_bins))\n",
    "fill_hist(histMdetMC_sig, MC_sig_reco_tau21, weights=weights_MC_sig)\n",
    "\n",
    "#histMgenData = ROOT.TH1D(\"histMgenData\", \"histMgenData; #tau_{2}^{1}; Events/(0.02)\", gen_bins.shape[0]-1, (gen_bins))\n",
    "#fill_hist(histMgenData, TTbartruth_nSub_basis[:,4]/TTbartruth_nSub_basis[:,1])\n",
    "\n",
    "histMdetData = ROOT.TH1D(\"histMdetData\", \"histMdetData; #tau_{2}^{1}; Events/(0.02)\", det_bins.shape[0]-1, (det_bins))\n",
    "fill_hist(histMdetData, data_tau21)\n",
    "\n",
    "\n",
    "response = ROOT.TH2D('response', 'response', det_bins.shape[0]-1, det_bins, gen_bins.shape[0]-1, gen_bins)\n",
    "hist2Dfill = np.zeros((MC_sig_reco_tau21.shape[0], 2))\n",
    "hist2Dfill[:,0] = MC_sig_reco_tau21.flatten()\n",
    "hist2Dfill[:,1] = MC_sig_gen_tau21.flatten()\n",
    "fill_hist(response, hist2Dfill, weights_MC_sig)"
   ]
  },
  {
   "cell_type": "markdown",
   "metadata": {
    "collapsed": true
   },
   "source": [
    "Set the X and Y axis labels"
   ]
  },
  {
   "cell_type": "code",
   "execution_count": 48,
   "metadata": {},
   "outputs": [],
   "source": [
    "response.SetTitle(\";#tau_{2,1}^{1}(det_sig);#tau_{2,1}^{1}(gen_sig)\")\n",
    "\n",
    "\n",
    "histMgenMC_bkg.SetTitle(\";#tau_{2,1}^{1}(gen_bkg)\")\n",
    "\n",
    "histMdetMC_bkg.SetTitle(\";#tau_{2,1}^{1}(det_bkg)\")\n",
    "\n",
    "histMgenMC_sig.SetTitle(\";#tau_{2,1}^{1}(gen_sig)\")\n",
    "\n",
    "histMdetMC_sig.SetTitle(\";#tau_{2,1}^{1}(det_sig)\")\n",
    "\n",
    "histMdetData.SetTitle(\";#tau_{2,1}^{1}(data)\")\n"
   ]
  },
  {
   "cell_type": "markdown",
   "metadata": {
    "collapsed": true
   },
   "source": [
    "Draw the variables at reco and gen level and for \"data\""
   ]
  },
  {
   "cell_type": "code",
   "execution_count": 49,
   "metadata": {},
   "outputs": [
    {
     "data": {
      "image/png": "[encoded data removed]",
      "text/plain": [
       "<IPython.core.display.Image object>"
      ]
     },
     "metadata": {},
     "output_type": "display_data"
    }
   ],
   "source": [
    "c1 = ROOT.TCanvas(\"chistMgenMC_sig1\", \"chistMgenMC_sig1\")\n",
    "histMgenMC_sig.Draw(\"e\")\n",
    "histMdetMC_sig.Draw(\"e same\")\n",
    "c1.Draw()"
   ]
  },
  {
   "cell_type": "code",
   "execution_count": 50,
   "metadata": {},
   "outputs": [
    {
     "data": {
      "image/png": "[encoded data removed]",
      "text/plain": [
       "<IPython.core.display.Image object>"
      ]
     },
     "metadata": {},
     "output_type": "display_data"
    }
   ],
   "source": [
    "c1 = ROOT.TCanvas(\"chistMgenMC_bkg1\", \"chistMgenMC_bkg1\")\n",
    "histMgenMC_bkg.Draw(\"e\")\n",
    "histMdetMC_bkg.Draw(\"e same\")\n",
    "c1.Draw()"
   ]
  },
  {
   "cell_type": "code",
   "execution_count": 51,
   "metadata": {},
   "outputs": [
    {
     "data": {
      "image/png": "[encoded data removed]",
      "text/plain": [
       "<IPython.core.display.Image object>"
      ]
     },
     "metadata": {},
     "output_type": "display_data"
    }
   ],
   "source": [
    "c1 = ROOT.TCanvas(\"chistMgenMC_sig1\", \"chistMgenMC_sig1\")\n",
    "#histMgenData.Draw(\"e\")\n",
    "histMdetData.Draw(\"e \")\n",
    "c1.Draw()"
   ]
  },
  {
   "cell_type": "raw",
   "metadata": {
    "collapsed": true
   },
   "source": [
    "#### Normalise the distributions, draw them and the response matrix."
   ]
  },
  {
   "cell_type": "raw",
   "metadata": {},
   "source": [
    "norm_genMC_bkg = histMgenMC_bkg.Integral()\n",
    "print norm_genMC_bkg\n",
    "\n",
    "norm_recoMC_bkg = histMdetMC_bkg.Integral()\n",
    "print norm_recoMC_bkg\n",
    "\n",
    "norm_genMC_sig = histMgenMC_sig.Integral()\n",
    "print norm_genMC_sig\n",
    "\n",
    "norm_recoMC_sig = histMdetMC_sig.Integral()\n",
    "print norm_recoMC_sig\n",
    "\n",
    "#norm_genData = histMgenData.Integral()\n",
    "#print norm_genData\n",
    "\n",
    "norm_detData = histMdetData.Integral()\n",
    "print norm_detData"
   ]
  },
  {
   "cell_type": "raw",
   "metadata": {},
   "source": [
    "histMgenMC_bkg.Scale(1./norm_genMC_bkg)\n",
    "histMdetMC_bkg.Scale(1./norm_recoMC_bkg)\n",
    "histMgenMC_sig.Scale(1./norm_genMC_sig)\n",
    "histMdetMC_sig.Scale(1./norm_recoMC_sig)\n",
    "\n",
    "#histMgenData.Scale(1./norm_genData)\n",
    "histMdetData.Scale(1./norm_detData)\n"
   ]
  },
  {
   "cell_type": "raw",
   "metadata": {},
   "source": [
    "#### In MC:"
   ]
  },
  {
   "cell_type": "raw",
   "metadata": {},
   "source": [
    "c2 = ROOT.TCanvas(\"MC_sigcompare\", \"MC_sigcompare\")\n",
    "histMgenMC_sig.Draw('e')\n",
    "histMdetMC_sig.Draw('e same')\n",
    "c2.Draw()"
   ]
  },
  {
   "cell_type": "raw",
   "metadata": {},
   "source": [
    "c2 = ROOT.TCanvas(\"MC_bkgcompare\", \"MC_bkgcompare\")\n",
    "histMgenMC_bkg.Draw('e')\n",
    "histMdetMC_bkg.Draw('e same')\n",
    "c2.Draw()"
   ]
  },
  {
   "cell_type": "raw",
   "metadata": {
    "collapsed": true
   },
   "source": [
    "#### In Data:"
   ]
  },
  {
   "cell_type": "raw",
   "metadata": {
    "scrolled": false
   },
   "source": [
    "c3 = ROOT.TCanvas(\"datadists\", \"datadists\")\n",
    "#histMgenData.Draw('e')\n",
    "histMdetData.Draw('e')\n",
    "c3.Draw()"
   ]
  },
  {
   "cell_type": "code",
   "execution_count": 52,
   "metadata": {
    "scrolled": false
   },
   "outputs": [
    {
     "data": {
      "image/png": "[encoded data removed]",
      "text/plain": [
       "<IPython.core.display.Image object>"
      ]
     },
     "metadata": {},
     "output_type": "display_data"
    }
   ],
   "source": [
    "c1 = ROOT.TCanvas(\"cresponse1\", \"cresponse1\")\n",
    "response.Draw(\"colz\")\n",
    "c1.Draw()"
   ]
  },
  {
   "cell_type": "code",
   "execution_count": 53,
   "metadata": {},
   "outputs": [
    {
     "name": "stdout",
     "output_type": "stream",
     "text": [
      "getting tunfolder:\n"
     ]
    },
    {
     "name": "stderr",
     "output_type": "stream",
     "text": [
      "Info in <TUnfold::SetConstraint>: fConstraint=0\n",
      "Info in <TUnfold::TUnfold>: underflow and overflow bin do not depend on the input data\n",
      "Info in <TUnfold::TUnfold>: 19 input bins and 9 output bins\n",
      "Info in <TUnfoldDensity::TUnfold>: *NOT* unfolding bin #0 (yaxis:#tau_{2,1}^{1}(gen_sig)[ufl])\n",
      "Info in <TUnfoldDensity::TUnfold>: *NOT* unfolding bin #10 (yaxis:#tau_{2,1}^{1}(gen_sig)[ofl])\n",
      "Info in <TUnfoldDensity::RegularizeOneDistribution>: regularizing yaxis regMode=3 densityMode=1 axisSteering=*[UOB]\n",
      "Info in <TUnfold::SetConstraint>: fConstraint=0\n",
      "Info in <TUnfold::TUnfold>: underflow and overflow bin do not depend on the input data\n",
      "Info in <TUnfold::TUnfold>: 19 input bins and 9 output bins\n",
      "Info in <TUnfoldDensity::TUnfold>: *NOT* unfolding bin #0 (yaxis:#tau_{2,1}^{1}(gen_sig)[ufl])\n",
      "Info in <TUnfoldDensity::TUnfold>: *NOT* unfolding bin #10 (yaxis:#tau_{2,1}^{1}(gen_sig)[ofl])\n",
      "Info in <TUnfoldDensity::RegularizeOneDistribution>: regularizing yaxis regMode=3 densityMode=1 axisSteering=*[UOB]\n"
     ]
    }
   ],
   "source": [
    "print 'getting tunfolder:'\n",
    "\n",
    "orientation = ROOT.TUnfoldDensity.kHistMapOutputHoriz\n",
    "regMode = ROOT.TUnfoldDensity.kRegModeCurvature\n",
    "con = ROOT.TUnfoldDensity.kEConstraintNone\n",
    "mode =  ROOT.TUnfoldDensity.kDensityModeBinWidth\n",
    "errmode = ROOT.TUnfoldSys.kSysErrModeMatrix\n",
    "#tunfolder_MC = ROOT.TUnfoldDensity(response, orientation, regMode, con, mode, \"signal\", \"*[UOb]\")\n",
    "#tunfolder_data = ROOT.TUnfoldDensity(response, orientation, regMode, con, mode, \"signal\", \"*[UOb]\")\n",
    "\n",
    "tunfolder_MC = ROOT.TUnfoldDensity(response,ROOT.TUnfold.kHistMapOutputVert,ROOT.TUnfold.kRegModeCurvature, ROOT.TUnfold.kEConstraintNone, ROOT.TUnfoldDensity.kDensityModeBinWidth)\n",
    "tunfolder_data = ROOT.TUnfoldDensity(response,ROOT.TUnfold.kHistMapOutputVert,ROOT.TUnfold.kRegModeCurvature, ROOT.TUnfold.kEConstraintNone, ROOT.TUnfoldDensity.kDensityModeBinWidth)"
   ]
  },
  {
   "cell_type": "markdown",
   "metadata": {
    "collapsed": true
   },
   "source": [
    "Set the input, a 1D reconstructed histogram from either MC_sig (closure) or Data (measurement) , binned in the detector level binning. Subtract background contributions from data, using reco-MC bkg."
   ]
  },
  {
   "cell_type": "code",
   "execution_count": 54,
   "metadata": {},
   "outputs": [
    {
     "name": "stdout",
     "output_type": "stream",
     "text": [
      "setting reco input\n"
     ]
    }
   ],
   "source": [
    "print 'setting reco input'\n",
    "tunfolder_data.SetInput( histMdetData )\n",
    "tunfolder_data.SubtractBackground( histMdetMC_bkg, \"bkg_all\", 1. )"
   ]
  },
  {
   "cell_type": "code",
   "execution_count": 55,
   "metadata": {},
   "outputs": [
    {
     "name": "stdout",
     "output_type": "stream",
     "text": [
      "setting reco MC input\n"
     ]
    },
    {
     "data": {
      "text/plain": [
       "0"
      ]
     },
     "execution_count": 55,
     "metadata": {},
     "output_type": "execute_result"
    }
   ],
   "source": [
    "print 'setting reco MC input'\n",
    "tunfolder_MC.SetInput( histMdetMC_sig )\n",
    "#tunfolder_MC.SubtractBackground( histMdetMC_bkg, \"bkg_all\", 1. )"
   ]
  },
  {
   "cell_type": "raw",
   "metadata": {},
   "source": [
    "Unfold nScan times with values for the regularization parameter between tauMin and tauMax using the empty TSplines to store the results."
   ]
  },
  {
   "cell_type": "raw",
   "metadata": {
    "scrolled": true
   },
   "source": [
    "print 'regularizing'\n",
    "nScan=50\n",
    "tauMin=-5.0\n",
    "tauMax=3.0\n",
    "iBest=0\n",
    "\n",
    "logTauX = ROOT.MakeNullPointer(ROOT.TSpline)\n",
    "logTauY = ROOT.MakeNullPointer(ROOT.TSpline)\n",
    "lCurve = ROOT.MakeNullPointer(ROOT.TGraph)\n",
    "\n",
    "print 'doing the unfolding'\n",
    "tunfolder.ScanLcurve(nScan,tauMin,tauMax,lCurve,logTauX,logTauY);\n",
    "print 'getting the results'\n",
    "unfolded = tunfolder.GetOutput(\"unfolded\")"
   ]
  },
  {
   "cell_type": "code",
   "execution_count": 56,
   "metadata": {},
   "outputs": [
    {
     "name": "stderr",
     "output_type": "stream",
     "text": [
      "Warning in <TROOT::Append>: Replacing existing TH1: unfolded_MC (Potential memory leak).\n"
     ]
    }
   ],
   "source": [
    "unfolded_data = tunfolder_data.DoUnfold(0.)\n",
    "unfolded_data = tunfolder_data.GetOutput(\"unfolded_data\")\n",
    "\n",
    "unfolded_MC = tunfolder_MC.DoUnfold(0.)\n",
    "unfolded_MC = tunfolder_MC.GetOutput(\"unfolded_MC\")"
   ]
  },
  {
   "cell_type": "code",
   "execution_count": 57,
   "metadata": {},
   "outputs": [],
   "source": [
    "ROOT.gStyle.SetOptStat(0)"
   ]
  },
  {
   "cell_type": "code",
   "execution_count": 58,
   "metadata": {
    "scrolled": false
   },
   "outputs": [
    {
     "name": "stderr",
     "output_type": "stream",
     "text": [
      "Warning in <TCanvas::Constructor>: Deleting canvas with same name: c5\n",
      "Info in <TCanvas::Print>: png file Tau21_unfolding_Escheme_bkgsub.png has been created\n",
      "Info in <TCanvas::Print>: pdf file Tau21_unfolding_Escheme_bkgsub.pdf has been created\n"
     ]
    },
    {
     "data": {
      "image/png": "[encoded data removed]",
      "text/plain": [
       "<IPython.core.display.Image object>"
      ]
     },
     "metadata": {},
     "output_type": "display_data"
    }
   ],
   "source": [
    "c5 = ROOT.TCanvas('c5', 'c5')\n",
    "\n",
    "unfolded_MC.SetMarkerStyle(2)\n",
    "unfolded_MC.SetMarkerColor(7)\n",
    "unfolded_MC.SetLineColor(7)\n",
    "unfolded_MC.SetLineWidth(1)\n",
    "\n",
    "unfolded_data.SetMarkerStyle(22)\n",
    "unfolded_data.SetMarkerColor(1)\n",
    "unfolded_data.SetLineColor(1)\n",
    "unfolded_data.SetLineWidth(2)\n",
    "\n",
    "\n",
    "#unfolded_MC.SetFillColor(0)\n",
    "#histMgenData.SetMarkerStyle(4)\n",
    "#histMgenData.SetMarkerColor(2)\n",
    "#histMgenData.SetOption(\"E\")\n",
    "#histMgenData.SetLineColor(2)\n",
    "histMgenMC_sig.SetMarkerStyle(5)\n",
    "histMgenMC_sig.SetMarkerColor(2)\n",
    "histMgenMC_sig.SetLineColor(2)\n",
    "\n",
    "\n",
    "\n",
    "hs = ROOT.THStack(\"#tau_{2,1}\", \"#tau_{2,1}\")\n",
    "#hs.Add\n",
    "hs.SetMinimum(0)\n",
    "#hs.Add( histMgenData, \"E HIST\")\n",
    "hs.Add( unfolded_MC, \"E HIST\")\n",
    "hs.Add( unfolded_data, \"E \")\n",
    "hs.Add(histMgenMC_sig, \"E HIST\")\n",
    "#hs.Add(histMdetMC_sig, \"E\")\n",
    "#hs.Add(histMdetData, \"E\")\n",
    "\n",
    "leg0 = ROOT.TLegend(0.35, 0.75, 0.91, 0.86)\n",
    "leg0.AddEntry( unfolded_data, \"Data (2016)\", 'p')\n",
    "leg0.AddEntry( histMgenMC_sig, \"Generator-level (ttbar MC: Powheg+Pythia8)\", 'p')\n",
    "#leg0.AddEntry( histMgenData, \"'Truth' (MC: MG5+Pythia8)\", 'p')\n",
    "leg0.AddEntry( unfolded_MC, \"Unfolding_self-closure (ttbar MC: Powheg+Pythia8)\", 'p')\n",
    "leg0.SetLineColor(0)\n",
    "leg0.SetBorderSize(0)\n",
    "leg0.SetFillStyle(0)\n",
    "\n",
    "#hs.Add(histMdetMC, \"E\")\n",
    "#hs.Add(histMdetData, \"E\")\n",
    "hs.Draw(\"nostack\")\n",
    "leg0.Draw()\n",
    "\n",
    "c5.Draw()\n",
    "c5.SaveAs(\"Tau21_unfolding_Escheme_bkgsub.png\")\n",
    "c5.SaveAs(\"Tau21_unfolding_Escheme_bkgsub.pdf\")"
   ]
  },
  {
   "cell_type": "code",
   "execution_count": 59,
   "metadata": {},
   "outputs": [
    {
     "name": "stdout",
     "output_type": "stream",
     "text": [
      "Bin Content \tBin error \tBin Center \tBin Low-Edge \tRatio to Truth for bin \tRatio Error\n",
      "321.4796 \t23.9577 \t0.0625 \t0.0 1.0000 0.0816\n",
      "3852.6355 \t58.4624 \t0.1875 \t0.125 1.0000 0.0179\n",
      "4032.7664 \t66.2512 \t0.3125 \t0.25 1.0000 0.0189\n",
      "2836.0842 \t59.7280 \t0.4375 \t0.375 1.0000 0.0238\n",
      "1723.1687 \t50.6351 \t0.5625 \t0.5 1.0000 0.0327\n",
      "817.3932 \t40.5193 \t0.6875 \t0.625 1.0000 0.0537\n",
      "250.0685 \t27.7461 \t0.8125 \t0.75 1.0000 0.1173\n",
      "50.3523 \t20.9666 \t0.9375 \t0.875 1.0000 0.4247\n",
      "17.1890 \t15.2005 \t1.115 \t1.0 1.0000 0.8957\n"
     ]
    }
   ],
   "source": [
    "ratio = ROOT.TH1D(\"\",\"; #tau_{2,1}^{(1)}\",  gen_bins.shape[0]-1, (gen_bins))\n",
    "ratio.GetXaxis().SetTitle(\"#tau_{2,1}^{(1)}\");\n",
    "#ratio.GetYaxis().SetTitleOffset(0.);\n",
    "ratio.GetYaxis().CenterTitle(ROOT.kTRUE);\n",
    "ratio.GetXaxis().CenterTitle(ROOT.kTRUE);\n",
    "ratio.GetYaxis().SetRangeUser(0.7,1.3)\n",
    "ratio.Add(unfolded_MC)\n",
    "ratio.GetYaxis().SetTitle(\"#frac{Unfolded Powheg}{Gen-level Powheg}\")\n",
    "ratio.Sumw2()\n",
    "ratio.SetStats(0)\n",
    "ratio.Divide(histMgenMC_sig);\n",
    "ratio.GetYaxis().SetLabelSize(0.09)\n",
    "ratio.GetXaxis().SetLabelSize(0.09)\n",
    "#ratio.SetMarkerStyle(1)\n",
    "ratio.SetMarkerColor(ROOT.kRed)\n",
    "ratio.SetLineColor(ROOT.kRed)\n",
    "ratio.GetYaxis().SetTitleSize(0.12)\n",
    "ratio.GetYaxis().SetTitleOffset(0.4)\n",
    "ratio.GetXaxis().SetTitleSize(0.12)\n",
    "ratio.GetXaxis().SetTitleOffset(0.85)\n",
    "\n",
    "print \"Bin Content\", \"\\t\", \"Bin error\", \"\\t\", \"Bin Center\", \"\\t\", \"Bin Low-Edge\", \"\\t\", \"Ratio to Truth for bin\", \"\\t\", \"Ratio Error\"\n",
    "for i in xrange(1,gen_bins.shape[0]):\n",
    "    print \"%0.4f\"%unfolded_MC.GetBinContent(i), \"\\t\", \"%0.4f\"%unfolded_MC.GetBinError(i), \"\\t\", unfolded_MC.GetBinCenter(i), \"\\t\", unfolded_MC.GetBinLowEdge(i), \"%0.4f\"%ratio.GetBinContent(i), \"%0.4f\"%ratio.GetBinError(i)"
   ]
  },
  {
   "cell_type": "code",
   "execution_count": 60,
   "metadata": {},
   "outputs": [
    {
     "name": "stderr",
     "output_type": "stream",
     "text": [
      "Warning in <TCanvas::Constructor>: Deleting canvas with same name: c6\n",
      "Info in <TCanvas::Print>: png file MC_SC_ratio_Escheme_bkgsub.png has been created\n",
      "Info in <TCanvas::Print>: pdf file MC_SC_ratio_Escheme_bkgsub.pdf has been created\n"
     ]
    },
    {
     "data": {
      "image/png": "[encoded data removed]",
      "text/plain": [
       "<IPython.core.display.Image object>"
      ]
     },
     "metadata": {},
     "output_type": "display_data"
    }
   ],
   "source": [
    "c6 = ROOT.TCanvas(\"c6\",\"c6\", 600,300)\n",
    "ratio.GetYaxis().SetLabelSize(0.05)\n",
    "ratio.GetXaxis().SetLabelSize(0.05)\n",
    "#ratio.SetMarkerStyle(1)\n",
    "ratio.SetMarkerStyle(5)\n",
    "ratio.SetMarkerColor(ROOT.kRed)\n",
    "ratio.SetLineColor(ROOT.kRed)\n",
    "ratio.GetYaxis().SetTitleSize(0.06)\n",
    "ratio.GetYaxis().SetTitleOffset(0.7)\n",
    "ratio.GetXaxis().SetTitleSize(0.05)\n",
    "ratio.GetXaxis().SetTitleOffset(0.8)\n",
    "#ratio.SetMinimum(0.7)\n",
    "#ratio.SetMaximum(1.3)\n",
    "#ratio.SetMarkerStyle(21);\n",
    "ratio.Draw(\"ep\")\n",
    "c6.Draw()\n",
    "c6.SaveAs(\"MC_SC_ratio_Escheme_bkgsub.png\")\n",
    "c6.SaveAs(\"MC_SC_ratio_Escheme_bkgsub.pdf\")"
   ]
  },
  {
   "cell_type": "code",
   "execution_count": 61,
   "metadata": {},
   "outputs": [
    {
     "name": "stderr",
     "output_type": "stream",
     "text": [
      "Error in <TUnfoldDensity::SubtractBackground>: Source bkg_all given twice, ignoring 2nd call.\n",
      "\n",
      "Warning in <TROOT::Append>: Replacing existing TH1: unfolded_data (Potential memory leak).\n"
     ]
    }
   ],
   "source": [
    "# get unfolding output\n",
    "# includes the statistical and background errors\n",
    "# but not the other systematic uncertainties\n",
    "#tunfolder_data.SetInput( histMdetData )\n",
    "tunfolder_data.SubtractBackground( histMdetMC_bkg, \"bkg_all\", 1. )\n",
    "\n",
    "histUnfoldOutput= tunfolder_data.GetOutput(\"unfolded_data\")\n",
    "\n",
    "# retreive error matrix of statistical errors\n",
    "histEmatStat=tunfolder_data.GetEmatrixInput(\"unfolding stat error matrix\");\n",
    "# retreive full error matrix\n",
    "# This includes all systematic errors\n",
    "histEmatTotal=tunfolder_data.GetEmatrixTotal(\"unfolding total error matrix\");\n",
    "# create two copies of the unfolded data, one with statistical errors\n",
    "# the other with total errors\n",
    "histUnfoldStat=ROOT.TH1D(\"tau21(unfold,staterr)\",\";tau21(gen)\",  gen_bins.shape[0]-1, (gen_bins));\n",
    "histUnfoldTotal=ROOT.TH1D(\"tau21(unfold,totalerr)\",\";tau21(gen)\",  gen_bins.shape[0]-1, (gen_bins));\n",
    "\n",
    "for i in xrange(0, gen_bins.shape[0]): \n",
    "    c=histUnfoldOutput.GetBinContent(i);\n",
    "    # histogram with unfolded data and stat errors\n",
    "    histUnfoldStat.SetBinContent(i,c);\n",
    "    histUnfoldStat.SetBinError(i,np.sqrt(histEmatStat.GetBinContent(i,i)));\n",
    "    # histogram with unfolded data and total errors\n",
    "    histUnfoldTotal.SetBinContent(i,c);\n",
    "    histUnfoldTotal.SetBinError(i,np.sqrt(histEmatTotal.GetBinContent(i,i)));\n",
    "\n",
    "# create histogram with correlation matrix\n",
    "histCorr=ROOT.TH2D(\"Corr(total)\",\";tau21(gen);tau21(gen)\",  gen_bins.shape[0]-1, (gen_bins), gen_bins.shape[0]-1, (gen_bins));\n",
    "for i in xrange(0, gen_bins.shape[0]): \n",
    "    ei,ej = 0,0\n",
    "    ei=np.sqrt(histEmatTotal.GetBinContent(i,i));\n",
    "    if(ei<=0.0): continue\n",
    "    for j in xrange(0, gen_bins.shape[0]):\n",
    "        ej=np.sqrt(histEmatTotal.GetBinContent(j,j));\n",
    "        if(ej<=0.0): continue\n",
    "        histCorr.SetBinContent(i,j,histEmatTotal.GetBinContent(i,j)/ei/ej);\n",
    "\n",
    "# retreive bgr source 1\n",
    "#histdetNormBgr1=tunfolder_data.GetBackground(\"bgr1 normalized\", \"background1\");\n",
    "histMdetNormBgrTotal=tunfolder_data.GetBackground(\"bkg_all\");\n",
    "#========================\n"
   ]
  },
  {
   "cell_type": "code",
   "execution_count": 62,
   "metadata": {},
   "outputs": [
    {
     "data": {
      "image/png": "[encoded data removed]",
      "text/plain": [
       "<IPython.core.display.Image object>"
      ]
     },
     "metadata": {},
     "output_type": "display_data"
    }
   ],
   "source": [
    "# Step 7: plots\n",
    "output = ROOT.TCanvas();\n",
    "#output.Divide(3,2);\n",
    "#output.cd(1);\n",
    "# data, MC prediction, background\n",
    "histMdetData.SetMinimum(0.0);\n",
    "histMdetData.SetMaximum(histMdetData.GetMaximum()*1.5);\n",
    "histMdetData.Draw(\"E\");\n",
    "histMdetMC_sig.SetMinimum(0.0);\n",
    "histMdetMC_sig.SetLineColor(ROOT.kBlue);\n",
    "histMdetNormBgrTotal.SetLineColor(ROOT.kRed);\n",
    "#histdetNormBgr1.SetLineColor(ROOT.kCyan);\n",
    "histMdetMC_sig.Draw(\"SAME HIST\");\n",
    "#histdetNormBgr1.Draw(\"SAME HIST\");\n",
    "histMdetNormBgrTotal.Draw(\"SAME HIST\");\n",
    "output.Draw()"
   ]
  },
  {
   "cell_type": "code",
   "execution_count": 63,
   "metadata": {},
   "outputs": [
    {
     "data": {
      "image/png": "[encoded data removed]",
      "text/plain": [
       "<IPython.core.display.Image object>"
      ]
     },
     "metadata": {},
     "output_type": "display_data"
    }
   ],
   "source": [
    "#output.cd(2)\n",
    "# unfolded data, data truth, MC truth\n",
    "output = ROOT.TCanvas();\n",
    "histUnfoldTotal.SetMinimum(0.0);\n",
    "histUnfoldTotal.SetMaximum(5000);\n",
    "histUnfoldTotal.SetLineColor(ROOT.kBlue+3)\n",
    "histUnfoldTotal.SetLineWidth(1)\n",
    "# outer error: total error\n",
    "histUnfoldTotal.Draw(\"E\");\n",
    "# middle error: stat+bgr\n",
    "histUnfoldOutput.SetLineWidth(1)\n",
    "histUnfoldOutput.Draw(\"SAME E1\");\n",
    "# inner error: stat only\n",
    "histUnfoldStat.SetLineColor(ROOT.kGreen+2)\n",
    "histUnfoldStat.Draw(\"SAME E1\");\n",
    "\n",
    "histMdetMC_sig.Draw(\"SAME HIST\");\n",
    "histMgenMC_sig.Draw(\"SAME HIST\");\n",
    "#histBbbSignalGen.SetLineColor(ROOT.kBlue);\n",
    "#histBbbSignalGen.Draw(\"SAME HIST\");\n",
    "output.Draw()"
   ]
  },
  {
   "cell_type": "code",
   "execution_count": 64,
   "metadata": {},
   "outputs": [
    {
     "data": {
      "image/png": "[encoded data removed]",
      "text/plain": [
       "<IPython.core.display.Image object>"
      ]
     },
     "metadata": {},
     "output_type": "display_data"
    }
   ],
   "source": [
    "output.cd(3);\n",
    "# unfolding matrix\n",
    "response.SetLineColor(ROOT.kBlue);\n",
    "response.Draw(\"BOX\");\n",
    "\n",
    "output.Draw()"
   ]
  },
  {
   "cell_type": "code",
   "execution_count": 65,
   "metadata": {},
   "outputs": [
    {
     "data": {
      "image/png": "[encoded data removed]",
      "text/plain": [
       "<IPython.core.display.Image object>"
      ]
     },
     "metadata": {},
     "output_type": "display_data"
    }
   ],
   "source": [
    "# show tau as a function of chi**2\n",
    "output.cd(4);\n",
    "#logTauX.Draw();\n",
    "#bestLogTauLogChi2.SetMarkerColor(ROOT.kRed);\n",
    "#bestLogTauLogChi2.Draw(\"*\");\n",
    "# show the L curve\n",
    "output.cd(5);\n",
    "#lCurve.Draw(\"AL\");\n",
    "#bestLcurve.SetMarkerColor(ROOT.kRed);\n",
    "#bestLcurve.Draw(\"*\");\n",
    "# show correlation matrix\n",
    "output.cd(6);\n",
    "histCorr.Draw(\"BOX\");\n",
    "output.Draw()"
   ]
  },
  {
   "cell_type": "code",
   "execution_count": null,
   "metadata": {},
   "outputs": [],
   "source": []
  },
  {
   "cell_type": "code",
   "execution_count": null,
   "metadata": {},
   "outputs": [],
   "source": []
  },
  {
   "cell_type": "code",
   "execution_count": null,
   "metadata": {},
   "outputs": [],
   "source": []
  }
 ],
 "metadata": {
  "kernelspec": {
   "display_name": "Python 2",
   "language": "python",
   "name": "python2"
  },
  "language_info": {
   "codemirror_mode": {
    "name": "ipython",
    "version": 2
   },
   "file_extension": ".py",
   "mimetype": "text/x-python",
   "name": "python",
   "nbconvert_exporter": "python",
   "pygments_lexer": "ipython2",
   "version": "2.7.15"
  }
 },
 "nbformat": 4,
 "nbformat_minor": 2
}
